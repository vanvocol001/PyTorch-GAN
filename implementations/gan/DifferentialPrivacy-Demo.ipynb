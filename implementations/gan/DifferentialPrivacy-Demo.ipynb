{
 "cells": [
  {
   "cell_type": "markdown",
   "metadata": {},
   "source": [
    "1. Imports"
   ]
  },
  {
   "cell_type": "code",
   "execution_count": null,
   "metadata": {},
   "outputs": [],
   "source": [
    "import torch\n",
    "import torch.nn as nn\n",
    "import torch.optim as optim\n",
    "from opacus import PrivacyEngine\n",
    "import copy"
   ]
  },
  {
   "cell_type": "markdown",
   "metadata": {},
   "source": [
    "2. Setup and Criterion Definition"
   ]
  },
  {
   "cell_type": "code",
   "execution_count": null,
   "metadata": {},
   "outputs": [],
   "source": [
    "device = torch.device(\"cuda\" if torch.cuda.is_available() else \"cpu\")\n",
    "criterion = nn.CrossEntropyLoss()"
   ]
  },
  {
   "cell_type": "markdown",
   "metadata": {},
   "source": [
    "3. Model Definition"
   ]
  },
  {
   "cell_type": "code",
   "execution_count": null,
   "metadata": {},
   "outputs": [],
   "source": [
    "model_dp = SimpleCNN().to(device)\n",
    "optimizer = optim.Adam(model_dp.parameters(), lr=1e-3)"
   ]
  },
  {
   "cell_type": "markdown",
   "metadata": {},
   "source": [
    "4. Addition of DP to Model"
   ]
  },
  {
   "cell_type": "code",
   "execution_count": null,
   "metadata": {},
   "outputs": [],
   "source": [
    "privacy_engine = PrivacyEngine()\n",
    "model_dp, optimizer, train_loader = privacy_engine.make_private(\n",
    "    module=model_dp,\n",
    "    optimizer=optimizer,\n",
    "    data_loader=train_loader,\n",
    "    noise_multiplier=1.0,\n",
    "    max_grad_norm=1.0,\n",
    ")"
   ]
  },
  {
   "cell_type": "markdown",
   "metadata": {},
   "source": [
    "5. Model Training"
   ]
  },
  {
   "cell_type": "code",
   "execution_count": null,
   "metadata": {},
   "outputs": [],
   "source": [
    "train(model_dp, train_loader, optimizer, criterion, device, epochs=5)"
   ]
  },
  {
   "cell_type": "markdown",
   "metadata": {},
   "source": [
    "6. Copy Model and Remove a Single Sample"
   ]
  },
  {
   "cell_type": "markdown",
   "metadata": {},
   "source": [
    "model_full = copy.deepcopy(model_dp)\n",
    "\n",
    "subset_indices = list(range(1, len(train_dataset)))\n",
    "train_subset = torch.utils.data.Subset(train_dataset, subset_indices)\n",
    "train_loader_subset = torch.utils.data.DataLoader(train_subset, batch_size=64, shuffle=True)\n"
   ]
  },
  {
   "cell_type": "markdown",
   "metadata": {},
   "source": [
    "7. Retrain Model with Sample Removed"
   ]
  },
  {
   "cell_type": "code",
   "execution_count": null,
   "metadata": {},
   "outputs": [],
   "source": [
    "model_dp_removed = SimpleCNN().to(device)\n",
    "optimizer_removed = optim.Adam(model_dp_removed.parameters(), lr=1e-3)\n",
    "privacy_engine_removed = PrivacyEngine()\n",
    "model_dp_removed, optimizer_removed, train_loader_removed = privacy_engine_removed.make_private(\n",
    "    module=model_dp_removed,\n",
    "    optimizer=optimizer_removed,\n",
    "    data_loader=train_loader_subset,\n",
    "    noise_multiplier=1.0,\n",
    "    max_grad_norm=1.0,\n",
    ")\n",
    "train(model_dp_removed, train_loader_removed, optimizer_removed, criterion, device, epochs=5)\n"
   ]
  },
  {
   "cell_type": "markdown",
   "metadata": {},
   "source": [
    "8. Compare Outputs"
   ]
  },
  {
   "cell_type": "code",
   "execution_count": null,
   "metadata": {},
   "outputs": [],
   "source": [
    "test_sample, _ = next(iter(test_loader))\n",
    "test_sample = test_sample.to(device)\n",
    "\n",
    "output_full = model_full(test_sample)\n",
    "output_removed = model_dp_removed(test_sample)\n",
    "\n",
    "difference = torch.abs(output_full - output_removed).mean().item()\n",
    "print(f\"Average difference in outputs with and without one sample: {difference:.6f}\")"
   ]
  },
  {
   "cell_type": "markdown",
   "metadata": {},
   "source": [
    "9. Visualize"
   ]
  },
  {
   "cell_type": "code",
   "execution_count": null,
   "metadata": {},
   "outputs": [],
   "source": [
    "import matplotlib.pyplot as plt\n",
    "\n",
    "plt.plot(output_full[0].detach().cpu().numpy(), label=\"Full Dataset\")\n",
    "plt.plot(output_removed[0].detach().cpu().numpy(), label=\"One Sample Removed\", linestyle=\"--\")\n",
    "plt.legend()\n",
    "plt.title(\"Model Output Comparison with DP\")\n",
    "plt.xlabel(\"Class Index\")\n",
    "plt.ylabel(\"Prediction Confidence\")\n",
    "plt.show()\n"
   ]
  }
 ],
 "metadata": {
  "kernelspec": {
   "display_name": "base",
   "language": "python",
   "name": "python3"
  },
  "language_info": {
   "name": "python",
   "version": "3.10.9"
  }
 },
 "nbformat": 4,
 "nbformat_minor": 2
}
